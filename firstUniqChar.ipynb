{
 "cells": [
  {
   "cell_type": "code",
   "execution_count": 3,
   "id": "a085eb31-b7df-401a-be3c-ff7abf9acfff",
   "metadata": {},
   "outputs": [],
   "source": [
    "def firstUniqChar(s):\n",
    "    # Creating a dictionary to store the frequency of each character\n",
    "    char_freq = {}\n",
    "\n",
    "    # Traversing the string and counting the frequency of each character\n",
    "    for char in s:\n",
    "        char_freq[char] = char_freq.get(char, 0) + 1\n",
    "\n",
    "    # Traversing the string again and finding the index of the first non-repeating character\n",
    "    for i in range(len(s)):\n",
    "        if char_freq[s[i]] == 1:\n",
    "            return i\n",
    "\n",
    "    # If no non-repeating character is found, returning -1\n",
    "    return -1\n"
   ]
  },
  {
   "cell_type": "code",
   "execution_count": 4,
   "id": "c06607e0-2769-474b-8d49-92dde8ddc650",
   "metadata": {},
   "outputs": [
    {
     "name": "stdout",
     "output_type": "stream",
     "text": [
      "0\n",
      "2\n",
      "-1\n"
     ]
    }
   ],
   "source": [
    "# Example 1\n",
    "s1 = \"leetcode\"\n",
    "print(firstUniqChar(s1)) \n",
    "\n",
    "# Example 2\n",
    "s2 = \"loveleetcode\"\n",
    "print(firstUniqChar(s2)) \n",
    "\n",
    "# Example 3\n",
    "s3 = \"aabb\"\n",
    "print(firstUniqChar(s3)) \n"
   ]
  },
  {
   "cell_type": "code",
   "execution_count": null,
   "id": "6f990b90-b6d6-4a99-811f-b7b153693d2f",
   "metadata": {},
   "outputs": [],
   "source": []
  }
 ],
 "metadata": {
  "kernelspec": {
   "display_name": "Python 3 (ipykernel)",
   "language": "python",
   "name": "python3"
  },
  "language_info": {
   "codemirror_mode": {
    "name": "ipython",
    "version": 3
   },
   "file_extension": ".py",
   "mimetype": "text/x-python",
   "name": "python",
   "nbconvert_exporter": "python",
   "pygments_lexer": "ipython3",
   "version": "3.10.8"
  }
 },
 "nbformat": 4,
 "nbformat_minor": 5
}
